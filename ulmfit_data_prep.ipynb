{
  "nbformat": 4,
  "nbformat_minor": 0,
  "metadata": {
    "colab": {
      "name": "ULMFiT Data Prep.ipynb",
      "version": "0.3.2",
      "provenance": [],
      "collapsed_sections": []
    },
    "kernelspec": {
      "name": "python3",
      "display_name": "Python 3"
    },
    "accelerator": "GPU"
  },
  "cells": [
    {
      "cell_type": "markdown",
      "metadata": {
        "id": "qCd1oo-inoL9",
        "colab_type": "text"
      },
      "source": [
        ""
      ]
    },
    {
      "cell_type": "code",
      "metadata": {
        "id": "YhAEjoUWDg-M",
        "colab_type": "code",
        "outputId": "afa6646c-81b5-4f7b-fe63-cc88e455f946",
        "colab": {
          "base_uri": "https://localhost:8080/",
          "height": 68
        }
      },
      "source": [
        "!pip install -q tensorflow-gpu==2.0.0-beta1"
      ],
      "execution_count": 1,
      "outputs": [
        {
          "output_type": "stream",
          "text": [
            "\u001b[K     |████████████████████████████████| 348.9MB 74kB/s \n",
            "\u001b[K     |████████████████████████████████| 501kB 48.8MB/s \n",
            "\u001b[K     |████████████████████████████████| 3.1MB 33.7MB/s \n",
            "\u001b[?25h"
          ],
          "name": "stdout"
        }
      ]
    },
    {
      "cell_type": "code",
      "metadata": {
        "id": "UESJu2YyRrgW",
        "colab_type": "code",
        "colab": {}
      },
      "source": [
        "import tensorflow as tf\n",
        "import numpy as np\n",
        "import os\n",
        "import re\n",
        "import html "
      ],
      "execution_count": 0,
      "outputs": []
    },
    {
      "cell_type": "markdown",
      "metadata": {
        "id": "MLuYPRavnEiO",
        "colab_type": "text"
      },
      "source": [
        "# Get Data for Language Model"
      ]
    },
    {
      "cell_type": "code",
      "metadata": {
        "id": "3RFuj9nfp0mf",
        "colab_type": "code",
        "outputId": "1103e732-de69-4bb2-a074-93708b4bf2e3",
        "colab": {
          "base_uri": "https://localhost:8080/",
          "height": 204
        }
      },
      "source": [
        "# Get Wikitext 103\n",
        "!wget https://s3.amazonaws.com/research.metamind.io/wikitext/wikitext-103-v1.zip"
      ],
      "execution_count": 3,
      "outputs": [
        {
          "output_type": "stream",
          "text": [
            "--2019-08-17 17:29:35--  https://s3.amazonaws.com/research.metamind.io/wikitext/wikitext-103-v1.zip\n",
            "Resolving s3.amazonaws.com (s3.amazonaws.com)... 52.216.86.149\n",
            "Connecting to s3.amazonaws.com (s3.amazonaws.com)|52.216.86.149|:443... connected.\n",
            "HTTP request sent, awaiting response... 200 OK\n",
            "Length: 190229076 (181M) [application/zip]\n",
            "Saving to: ‘wikitext-103-v1.zip’\n",
            "\n",
            "wikitext-103-v1.zip 100%[===================>] 181.42M  35.3MB/s    in 5.7s    \n",
            "\n",
            "2019-08-17 17:29:42 (31.8 MB/s) - ‘wikitext-103-v1.zip’ saved [190229076/190229076]\n",
            "\n"
          ],
          "name": "stdout"
        }
      ]
    },
    {
      "cell_type": "code",
      "metadata": {
        "id": "f-2AYGUOisTo",
        "colab_type": "code",
        "outputId": "ec200dea-effc-49cc-e611-974a2519880a",
        "colab": {
          "base_uri": "https://localhost:8080/",
          "height": 102
        }
      },
      "source": [
        "!unzip wikitext-103-v1.zip"
      ],
      "execution_count": 4,
      "outputs": [
        {
          "output_type": "stream",
          "text": [
            "Archive:  wikitext-103-v1.zip\n",
            "   creating: wikitext-103/\n",
            "  inflating: wikitext-103/wiki.test.tokens  \n",
            "  inflating: wikitext-103/wiki.valid.tokens  \n",
            "  inflating: wikitext-103/wiki.train.tokens  \n"
          ],
          "name": "stdout"
        }
      ]
    },
    {
      "cell_type": "markdown",
      "metadata": {
        "id": "XN32l2-FnvPp",
        "colab_type": "text"
      },
      "source": [
        "# Get IMDB Dataset "
      ]
    },
    {
      "cell_type": "code",
      "metadata": {
        "id": "RrKT86XTnyH4",
        "colab_type": "code",
        "colab": {
          "base_uri": "https://localhost:8080/",
          "height": 204
        },
        "outputId": "99e7e280-9556-44a9-eb70-623a23642c51"
      },
      "source": [
        "!wget https://ai.stanford.edu/~amaas/data/sentiment/aclImdb_v1.tar.gz"
      ],
      "execution_count": 6,
      "outputs": [
        {
          "output_type": "stream",
          "text": [
            "--2019-08-17 17:30:10--  https://ai.stanford.edu/~amaas/data/sentiment/aclImdb_v1.tar.gz\n",
            "Resolving ai.stanford.edu (ai.stanford.edu)... 171.64.68.10\n",
            "Connecting to ai.stanford.edu (ai.stanford.edu)|171.64.68.10|:443... connected.\n",
            "HTTP request sent, awaiting response... 200 OK\n",
            "Length: 84125825 (80M) [application/x-gzip]\n",
            "Saving to: ‘aclImdb_v1.tar.gz’\n",
            "\n",
            "aclImdb_v1.tar.gz   100%[===================>]  80.23M  20.1MB/s    in 7.1s    \n",
            "\n",
            "2019-08-17 17:30:18 (11.3 MB/s) - ‘aclImdb_v1.tar.gz’ saved [84125825/84125825]\n",
            "\n"
          ],
          "name": "stdout"
        }
      ]
    },
    {
      "cell_type": "code",
      "metadata": {
        "id": "iCW1QVlWoSpW",
        "colab_type": "code",
        "colab": {}
      },
      "source": [
        "!tar xzf aclImdb_v1.tar.gz"
      ],
      "execution_count": 0,
      "outputs": []
    },
    {
      "cell_type": "code",
      "metadata": {
        "id": "RF_R6EpkowoH",
        "colab_type": "code",
        "colab": {
          "base_uri": "https://localhost:8080/",
          "height": 34
        },
        "outputId": "0a9eec5b-3117-441a-8426-3048e2cd772b"
      },
      "source": [
        "!ls"
      ],
      "execution_count": 2,
      "outputs": [
        {
          "output_type": "stream",
          "text": [
            "aclImdb  aclImdb_v1.tar.gz  sample_data  wikitext-103  wikitext-103-v1.zip\n"
          ],
          "name": "stdout"
        }
      ]
    },
    {
      "cell_type": "markdown",
      "metadata": {
        "id": "1i03-og9nHXu",
        "colab_type": "text"
      },
      "source": [
        "# Preprocess Data Wikitext\n"
      ]
    },
    {
      "cell_type": "code",
      "metadata": {
        "id": "j2HC_P-edJDQ",
        "colab_type": "code",
        "colab": {}
      },
      "source": [
        "train_path = \"wikitext-103/wiki.train.tokens\"\n",
        "valid_path = \"wikitext-103/wiki.valid.tokens\"\n",
        "test_path = \"wikitext-103/wiki.test.tokens\""
      ],
      "execution_count": 0,
      "outputs": []
    },
    {
      "cell_type": "code",
      "metadata": {
        "id": "wohw_aClqtcc",
        "colab_type": "code",
        "colab": {}
      },
      "source": [
        "def istitle(line):\n",
        "    return len(re.findall(r'^ = [^=]* = $', line)) != 0\n",
        "    \n",
        "UNK = \"unk\"\n",
        "def read_wiki(filename):\n",
        "    articles = []\n",
        "    with open(filename, encoding='utf8') as f:\n",
        "        lines = f.readlines()\n",
        "    current_article = ''\n",
        "    for i,line in enumerate(lines):\n",
        "        current_article += line\n",
        "        if i < len(lines)-2 and lines[i+1] == ' \\n' and istitle(lines[i+2]):\n",
        "            current_article = current_article.replace('<unk>', UNK)\n",
        "            articles.append(current_article)\n",
        "            current_article = ''\n",
        "    current_article = current_article.replace('<unk>', UNK)\n",
        "    articles.append(current_article)\n",
        "    return articles"
      ],
      "execution_count": 0,
      "outputs": []
    },
    {
      "cell_type": "code",
      "metadata": {
        "id": "FaU5qAAgkV6Q",
        "colab_type": "code",
        "colab": {}
      },
      "source": [
        "def preprocess(x):\n",
        "  x = x.strip().lower()\n",
        "  \n",
        "  # fix html \n",
        "  re1 = re.compile(r'  +')\n",
        "  x = x.replace('#39;', \"'\").replace('amp;', '&').replace('#146;', \"'\").replace(\n",
        "        'nbsp;', ' ').replace('#36;', '$').replace('\\\\n', \"\\n\").replace('quot;', \"'\").replace(\n",
        "        '<br />', \"\\n\").replace('\\\\\"', '\"').replace('<unk>',UNK).replace(' @.@ ','.').replace(\n",
        "        ' @-@ ','-').replace(' @,@ ',',').replace('\\\\', ' \\\\ ')\n",
        "  x=re1.sub(' ', html.unescape(x))\n",
        "  \n",
        "  \"Add spaces around / and # in `t`. \\n\" \n",
        "  x=re.sub(r'([/#\\n])', r' \\1 ', x)\n",
        "  \n",
        "  \"Remove multiple spaces in `t`.\"\n",
        "  \n",
        "  x=re.sub(' {2,}', ' ', x)\n",
        "  \n",
        "  return '<S> '+x+' <E>'"
      ],
      "execution_count": 0,
      "outputs": []
    },
    {
      "cell_type": "code",
      "metadata": {
        "id": "rMJJERvvqH6n",
        "colab_type": "code",
        "colab": {}
      },
      "source": [
        "wiki_articles = read_wiki(train_path)\n",
        "wiki_valid_articles = read_wiki(valid_path)"
      ],
      "execution_count": 0,
      "outputs": []
    },
    {
      "cell_type": "code",
      "metadata": {
        "id": "VFjxquiKq9MQ",
        "colab_type": "code",
        "colab": {}
      },
      "source": [
        "wiki_articles = [preprocess(article) for article in wiki_articles]\n",
        "wiki_valid_articles = [preprocess(article) for article in wiki_valid_articles]"
      ],
      "execution_count": 0,
      "outputs": []
    },
    {
      "cell_type": "code",
      "metadata": {
        "id": "mD1ydY5xrSTr",
        "colab_type": "code",
        "colab": {
          "base_uri": "https://localhost:8080/",
          "height": 275
        },
        "outputId": "b3263b58-63f9-4ede-f3bf-7098e61d04e2"
      },
      "source": [
        "print(wiki_articles[3])"
      ],
      "execution_count": 27,
      "outputs": [
        {
          "output_type": "stream",
          "text": [
            "<S> = gambia women 's national football team = \n",
            " \n",
            " the gambia women 's national football team represents the gambia in international football competition . the team , however , has not competed in a match recognised by fifa , the sport 's international governing body , despite that organised women 's football has been played in the country since 1998 . the gambia has two youth teams , an under-17 side that has competed in fifa u-17 women 's world cup qualifiers , and an under-19 side that withdrew from regional qualifiers for an under-19 world cup . the development of a national team faces challenges similar to those across africa , although the national football association has four staff members focusing on women 's football . \n",
            " \n",
            " = = the team = = \n",
            " \n",
            " in 1985 , few countries had women 's national football teams . while the sport gained popularity worldwide in later decades , the gambia 's national team only played its first game in 2007 . that game was not fifa-recognised . as of march 2012 , the team was unranked by fifa , and as of the following month the gambia had not played in a fifa-sanctioned match . the team has not participated in major regional and international tournaments , including the women 's world cup , the 2010 african women 's championship or the 2011 all-africa games . \n",
            " the country did not have a fifa-recognised youth national team until 2012 , when the gambia under-17 women 's team competed in confederation of african football qualifiers for the fifa u-17 world cup , to be held in azerbaijan in september 2012 . the gambia had fielded an under-17 team of 24 players , narrowed from an initial pool of 49 young women . two girls from the sos children ’ s village unk were chosen as a members of the team . the gambia first played sierra leone in a pair of qualifying matches for the tournament . gambia won the first match 3-0 in banjul , the gambia 's capital . the return match was delayed in for 24 hours and played in makeni . the gambia beat sierra leone 4-3 to qualify for the final round . the gambia then beat tunisia 1-0 at home and won 2-1 in tunisia . adama tamba and awa demba scored the gambia 's goals . tunisia 's only goal was a gambian own goal . the win qualified gambia for the 2012 azerbaijan world cup . \n",
            " the gambia also has an under-19 team that was to play in the african women 's u-19 championship in 2002 . the gambia 's first match was against morocco , but the team withdrew from the competition . \n",
            " \n",
            " = = background and development = = \n",
            " \n",
            " the development of women 's football in africa faces several challenges , including limited access to education , poverty amongst women , inequalities and human rights abuses targeting women . funding is another issue impacting the game in africa , where most financial assistance comes from fifa and not national football associations . another challenge is the retention of football players . many women footballers leave the continent to seek greater opportunity in europe or the united states . \n",
            " gambia 's national football association was founded in 1952 , and became affiliated with fifa in 1968 . football is the most popular women 's sport in the country , and was first played in an organized system in 1998 . a national competition was launched in 2007 , the same year fifa started an education course on football for women . competition was active on both the national and scholastic levels by 2009 . there are four staffers dedicated to women 's football in the gambia football association , and representation of women on the board is required by the association 's charter . <E>\n"
          ],
          "name": "stdout"
        }
      ]
    },
    {
      "cell_type": "markdown",
      "metadata": {
        "id": "jzMhV3Gxt_AD",
        "colab_type": "text"
      },
      "source": [
        "### Build Vocabulary from training data"
      ]
    },
    {
      "cell_type": "code",
      "metadata": {
        "id": "2NRtun-1rvtj",
        "colab_type": "code",
        "colab": {}
      },
      "source": [
        "from collections import Counter\n",
        "def build_vocab(data,max_words,min_freq):\n",
        "    counter = Counter([word for para in data for word in para.split()])\n",
        "    vocab = [word[0] for word in counter.most_common() if word[1] >= min_freq]\n",
        "    return vocab[:max_words]\n",
        "    "
      ],
      "execution_count": 0,
      "outputs": []
    },
    {
      "cell_type": "code",
      "metadata": {
        "id": "mrRHh1u9syGw",
        "colab_type": "code",
        "colab": {}
      },
      "source": [
        "train_vocab = build_vocab(wiki_articles,max_words=60000,min_freq=3)"
      ],
      "execution_count": 0,
      "outputs": []
    },
    {
      "cell_type": "code",
      "metadata": {
        "id": "RjMiAAx0s28U",
        "colab_type": "code",
        "colab": {
          "base_uri": "https://localhost:8080/",
          "height": 34
        },
        "outputId": "376600f5-d6d5-415f-ca8a-f8b9834af84d"
      },
      "source": [
        "len(train_vocab)"
      ],
      "execution_count": 30,
      "outputs": [
        {
          "output_type": "execute_result",
          "data": {
            "text/plain": [
              "60000"
            ]
          },
          "metadata": {
            "tags": []
          },
          "execution_count": 30
        }
      ]
    },
    {
      "cell_type": "markdown",
      "metadata": {
        "id": "rxvQzU-qtmfV",
        "colab_type": "text"
      },
      "source": [
        "# Preprocess IMDB Dataset\n",
        "\n",
        "labels :  0 for positive, 1 for negative."
      ]
    },
    {
      "cell_type": "code",
      "metadata": {
        "id": "BKJnO0fXujPh",
        "colab_type": "code",
        "colab": {}
      },
      "source": [
        "dir_names = ['pos','neg']\n",
        "\n",
        "imdb_file_paths = []\n",
        "imdb_labels = []\n",
        "for i, dir in enumerate(dir_names):\n",
        "  file_names = [os.path.join(\"aclImdb/train\",dir,name) for name in os.listdir(\"aclImdb/train/\"+dir)]\n",
        "  imdb_file_paths += file_names\n",
        "  imdb_labels += [i]*len(os.listdir(\"aclImdb/train/\"+dir))\n",
        "  \n"
      ],
      "execution_count": 0,
      "outputs": []
    },
    {
      "cell_type": "code",
      "metadata": {
        "id": "YOzpboWQxJaT",
        "colab_type": "code",
        "colab": {}
      },
      "source": [
        "np.random.seed(42)\n",
        "permutation = np.random.permutation(len(file_paths))\n",
        "\n",
        "imdb_file_paths = np.array(file_paths)[permutation]\n",
        "imdb_labels = np.array(labels)[permutation]"
      ],
      "execution_count": 0,
      "outputs": []
    },
    {
      "cell_type": "code",
      "metadata": {
        "id": "R5d3uxQ3xbxQ",
        "colab_type": "code",
        "colab": {
          "base_uri": "https://localhost:8080/",
          "height": 34
        },
        "outputId": "5fc82546-690c-4b95-b260-3a243983bca3"
      },
      "source": [
        "print(len(imdb_file_paths),len(imdb_labels))"
      ],
      "execution_count": 55,
      "outputs": [
        {
          "output_type": "stream",
          "text": [
            "25000 25000\n"
          ],
          "name": "stdout"
        }
      ]
    },
    {
      "cell_type": "code",
      "metadata": {
        "id": "ojda_BNiyJZB",
        "colab_type": "code",
        "colab": {}
      },
      "source": [
        "imdb_reviews = []\n",
        "for file in imdb_file_paths:\n",
        "  with open(file,encoding='utf-8') as f:\n",
        "    data = f.read()\n",
        "  data = preprocess(data)\n",
        "  imdb_reviews.append(data)"
      ],
      "execution_count": 0,
      "outputs": []
    },
    {
      "cell_type": "code",
      "metadata": {
        "id": "iah6IVY1ycdb",
        "colab_type": "code",
        "colab": {
          "base_uri": "https://localhost:8080/",
          "height": 54
        },
        "outputId": "a972283c-819b-484e-f334-882cc84fd8c6"
      },
      "source": [
        "imdb_reviews[0]"
      ],
      "execution_count": 57,
      "outputs": [
        {
          "output_type": "execute_result",
          "data": {
            "text/plain": [
              "\"<S> jimmy stewart and anthony mann teamed to do some of the best westerns ever made and this is one of the best. \\n \\n the real star of the film however is the spectacular canadian rockies that serve as a backdrop for the story. some of the best cinematography ever done in the history of film. \\n \\n in all five of the westerns that stewart and mann did together the supporting roles were perfectly cast. no exception here, right down to parts that might only have a few lines, the characters are firmly etched with those lines. \\n \\n stewart is a cynical hard-bitten loner in this film whose only real friend is his sidekick walter brennan. it's brennan's death at the hands of the villains that makes him want to finally free the gold settlement from the bad guys and incidentally redeem himself in the process. \\n \\n john mcintire is the head villain of the piece and he was an under-appreciated actor with a vast range. he could play delightful old codgers, authority figures and in this case a particularly nasty and crafty villain. \\n \\n one of the best westerns ever. <E>\""
            ]
          },
          "metadata": {
            "tags": []
          },
          "execution_count": 57
        }
      ]
    },
    {
      "cell_type": "code",
      "metadata": {
        "id": "vvEMKjvMye5M",
        "colab_type": "code",
        "colab": {
          "base_uri": "https://localhost:8080/",
          "height": 34
        },
        "outputId": "9bdd35c4-ae3e-456e-b162-032cb7816cbd"
      },
      "source": [
        "labels[0]"
      ],
      "execution_count": 58,
      "outputs": [
        {
          "output_type": "execute_result",
          "data": {
            "text/plain": [
              "0"
            ]
          },
          "metadata": {
            "tags": []
          },
          "execution_count": 58
        }
      ]
    },
    {
      "cell_type": "code",
      "metadata": {
        "id": "6Irz7MfdyiP8",
        "colab_type": "code",
        "colab": {}
      },
      "source": [
        ""
      ],
      "execution_count": 0,
      "outputs": []
    }
  ]
}